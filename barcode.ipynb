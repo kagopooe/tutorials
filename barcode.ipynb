{
 "cells": [
  {
   "cell_type": "code",
   "execution_count": 1,
   "id": "e7aefbf4",
   "metadata": {},
   "outputs": [
    {
     "name": "stdout",
     "output_type": "stream",
     "text": [
      "Collecting python-barcode\n",
      "  Downloading python_barcode-0.14.0-py3-none-any.whl (212 kB)\n",
      "\u001b[2K     \u001b[90m━━━━━━━━━━━━━━━━━━━━━━━━━━━━━━━━━━━━━\u001b[0m \u001b[32m212.9/212.9 kB\u001b[0m \u001b[31m234.3 kB/s\u001b[0m eta \u001b[36m0:00:00\u001b[0ma \u001b[36m0:00:01\u001b[0m\n",
      "\u001b[?25hInstalling collected packages: python-barcode\n",
      "Successfully installed python-barcode-0.14.0\n",
      "Note: you may need to restart the kernel to use updated packages.\n"
     ]
    }
   ],
   "source": [
    "pip install python-barcode"
   ]
  },
  {
   "cell_type": "code",
   "execution_count": 1,
   "id": "c289f1d2",
   "metadata": {},
   "outputs": [],
   "source": [
    "import barcode\n",
    "from barcode.writer import ImageWriter"
   ]
  },
  {
   "cell_type": "code",
   "execution_count": 3,
   "id": "3dc650e9",
   "metadata": {},
   "outputs": [
    {
     "name": "stdout",
     "output_type": "stream",
     "text": [
      "Enter the code to generate barcode : 000001234567\n"
     ]
    },
    {
     "data": {
      "text/plain": [
       "'generated_barcode.png'"
      ]
     },
     "execution_count": 3,
     "metadata": {},
     "output_type": "execute_result"
    }
   ],
   "source": [
    "# barcode as a string\n",
    "number = input(\"Enter the code to generate barcode : \")\n",
    "\n",
    "# get the required barcode format\n",
    "barcode_format = barcode.get_barcode_class('upc')\n",
    "\n",
    "# generate barcode nad convert into image\n",
    "my_barcode = barcode_format(number, writer=ImageWriter())\n",
    "\n",
    "# save barcode as png\n",
    "my_barcode.save(\"generated_barcode\")"
   ]
  },
  {
   "cell_type": "code",
   "execution_count": 4,
   "id": "6c644120",
   "metadata": {},
   "outputs": [
    {
     "data": {
      "image/png": "[encoded data removed]",
      "text/plain": [
       "<PIL.PngImagePlugin.PngImageFile image mode=RGB size=523x280>"
      ]
     },
     "execution_count": 4,
     "metadata": {},
     "output_type": "execute_result"
    }
   ],
   "source": [
    "from PIL import Image #to open the barcode\n",
    "Image.open('generated_barcode.png')"
   ]
  },
  {
   "cell_type": "code",
   "execution_count": null,
   "id": "40ad0398",
   "metadata": {},
   "outputs": [],
   "source": []
  }
 ],
 "metadata": {
  "kernelspec": {
   "display_name": "Python 3 (ipykernel)",
   "language": "python",
   "name": "python3"
  },
  "language_info": {
   "codemirror_mode": {
    "name": "ipython",
    "version": 3
   },
   "file_extension": ".py",
   "mimetype": "text/x-python",
   "name": "python",
   "nbconvert_exporter": "python",
   "pygments_lexer": "ipython3",
   "version": "3.8.5"
  }
 },
 "nbformat": 4,
 "nbformat_minor": 5
}
